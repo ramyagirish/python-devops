{
  "nbformat": 4,
  "nbformat_minor": 0,
  "metadata": {
    "colab": {
      "provenance": [],
      "toc_visible": true,
      "authorship_tag": "ABX9TyM1qq81PqiQri2FZnWeAz7L",
      "include_colab_link": true
    },
    "kernelspec": {
      "name": "python3",
      "display_name": "Python 3"
    },
    "language_info": {
      "name": "python"
    }
  },
  "cells": [
    {
      "cell_type": "markdown",
      "metadata": {
        "id": "view-in-github",
        "colab_type": "text"
      },
      "source": [
        "<a href=\"https://colab.research.google.com/github/ramyagirish/python-devops/blob/main/getting_started_with_python.ipynb\" target=\"_parent\"><img src=\"https://colab.research.google.com/assets/colab-badge.svg\" alt=\"Open In Colab\"/></a>"
      ]
    },
    {
      "cell_type": "markdown",
      "source": [
        "### Introduction to Python\n",
        "\n",
        "#### Statements in Python"
      ],
      "metadata": {
        "id": "Iljq6khhsbFa"
      }
    },
    {
      "cell_type": "code",
      "execution_count": null,
      "metadata": {
        "id": "6GxEQ65qqHVp",
        "colab": {
          "base_uri": "https://localhost:8080/"
        },
        "outputId": "2e0a2dfd-afe8-4e39-ec0e-b08d2fb79c40"
      },
      "outputs": [
        {
          "output_type": "stream",
          "name": "stdout",
          "text": [
            "hello world\n"
          ]
        }
      ],
      "source": [
        "print(\"hello world\")"
      ]
    },
    {
      "cell_type": "code",
      "source": [
        "name = \"bob\"\n",
        "print(f\"hello {name}\")"
      ],
      "metadata": {
        "colab": {
          "base_uri": "https://localhost:8080/"
        },
        "id": "1BeMyNqUsu0C",
        "outputId": "5cb5dc6c-bf79-45b6-f437-2ffec46759a6"
      },
      "execution_count": null,
      "outputs": [
        {
          "output_type": "stream",
          "name": "stdout",
          "text": [
            "hello bob\n"
          ]
        }
      ]
    },
    {
      "cell_type": "markdown",
      "source": [
        "#### Data Structures"
      ],
      "metadata": {
        "id": "LzBmi2wQtAuP"
      }
    },
    {
      "cell_type": "code",
      "source": [
        "fruit = [\"apple\", 1, 7.90]"
      ],
      "metadata": {
        "id": "IIWQV72qtPyk"
      },
      "execution_count": null,
      "outputs": []
    },
    {
      "cell_type": "code",
      "source": [
        "type(fruit)"
      ],
      "metadata": {
        "colab": {
          "base_uri": "https://localhost:8080/"
        },
        "id": "gdpyGLzBtKKg",
        "outputId": "43dc9f48-c5e3-411a-b6c8-aea0b5274ac5"
      },
      "execution_count": null,
      "outputs": [
        {
          "output_type": "execute_result",
          "data": {
            "text/plain": [
              "list"
            ]
          },
          "metadata": {},
          "execution_count": 5
        }
      ]
    },
    {
      "cell_type": "code",
      "source": [
        "for fr in fruit:\n",
        "  print(f\"component: {fr}\")"
      ],
      "metadata": {
        "colab": {
          "base_uri": "https://localhost:8080/"
        },
        "id": "GtmYkVrztLsO",
        "outputId": "a52c8a12-88f9-4788-c40a-eeb5d4923e0e"
      },
      "execution_count": null,
      "outputs": [
        {
          "output_type": "stream",
          "name": "stdout",
          "text": [
            "component: apple\n",
            "component: 1\n",
            "component: 7.9\n"
          ]
        }
      ]
    },
    {
      "cell_type": "code",
      "source": [
        "my_shopping_dict = {\"fruit\": \"apple\", \"vegetable\": \"beans\", \"cereals\": \"rice\"}"
      ],
      "metadata": {
        "id": "f76xM7CgtZMA"
      },
      "execution_count": null,
      "outputs": []
    },
    {
      "cell_type": "code",
      "source": [
        "my_shopping_dict.keys()"
      ],
      "metadata": {
        "colab": {
          "base_uri": "https://localhost:8080/"
        },
        "id": "_8EGA9dBtqP7",
        "outputId": "d334a7c3-5ac7-4dd6-cf3c-ee614db5d83d"
      },
      "execution_count": null,
      "outputs": [
        {
          "output_type": "execute_result",
          "data": {
            "text/plain": [
              "dict_keys(['fruit', 'vegetable', 'cereals'])"
            ]
          },
          "metadata": {},
          "execution_count": 8
        }
      ]
    },
    {
      "cell_type": "code",
      "source": [
        "my_shopping_dict.values()"
      ],
      "metadata": {
        "id": "8I6Dp83rtuBl",
        "outputId": "00bb5c90-117b-4b7a-b0be-e75072ee6285",
        "colab": {
          "base_uri": "https://localhost:8080/"
        }
      },
      "execution_count": null,
      "outputs": [
        {
          "output_type": "execute_result",
          "data": {
            "text/plain": [
              "dict_values(['apple', 'beans', 'rice'])"
            ]
          },
          "metadata": {},
          "execution_count": 9
        }
      ]
    },
    {
      "cell_type": "code",
      "source": [
        "my_shopping_dict.items()"
      ],
      "metadata": {
        "id": "w8yYUZI3twOc",
        "outputId": "a4884cc8-c2a8-443f-d5d6-0ee2eb811065",
        "colab": {
          "base_uri": "https://localhost:8080/"
        }
      },
      "execution_count": null,
      "outputs": [
        {
          "output_type": "execute_result",
          "data": {
            "text/plain": [
              "dict_items([('fruit', 'apple'), ('vegetable', 'beans'), ('cereals', 'rice')])"
            ]
          },
          "metadata": {},
          "execution_count": 10
        }
      ]
    },
    {
      "cell_type": "code",
      "source": [],
      "metadata": {
        "id": "t7DFh6ZFtyDM"
      },
      "execution_count": null,
      "outputs": []
    }
  ]
}